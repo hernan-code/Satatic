{
  "nbformat": 4,
  "nbformat_minor": 0,
  "metadata": {
    "colab": {
      "provenance": [],
      "authorship_tag": "ABX9TyNwl8OIc7/7ghDKYf8Z7x4s",
      "include_colab_link": true
    },
    "kernelspec": {
      "name": "python3",
      "display_name": "Python 3"
    },
    "language_info": {
      "name": "python"
    }
  },
  "cells": [
    {
      "cell_type": "markdown",
      "metadata": {
        "id": "view-in-github",
        "colab_type": "text"
      },
      "source": [
        "<a href=\"https://colab.research.google.com/github/hernan-code/Satatic/blob/main/Untitled0.ipynb\" target=\"_parent\"><img src=\"https://colab.research.google.com/assets/colab-badge.svg\" alt=\"Open In Colab\"/></a>"
      ]
    },
    {
      "cell_type": "code",
      "execution_count": 13,
      "metadata": {
        "colab": {
          "base_uri": "https://localhost:8080/"
        },
        "id": "MpMOeqjE4nzh",
        "outputId": "c36c3d0c-45cb-4af6-e0e8-7e3908606b4e"
      },
      "outputs": [
        {
          "output_type": "stream",
          "name": "stdout",
          "text": [
            "Minimizar: Optimization terminated successfully. (HiGHS Status 7: Optimal) [5. 8. 3.] 61.0\n",
            "Maximizar: Optimization terminated successfully. (HiGHS Status 7: Optimal) [5. 8. 6.] 73.0\n"
          ]
        }
      ],
      "source": [
        "from scipy.optimize import linprog\n",
        "\n",
        "def solve_lp(c, A_ub, b_ub, maximize=False):\n",
        "    # Si es maximizacion, cambiamos de signo los coeficientes\n",
        "    c_obj = [-ci for ci in c] if maximize else c\n",
        "\n",
        "    # Resolver\n",
        "    res = linprog(c_obj, A_ub=A_ub, b_ub=b_ub, bounds=(0, None), method=\"highs\")\n",
        "\n",
        "    # Recuperar valor optimo\n",
        "    z = -res.fun if maximize else res.fun\n",
        "    return res.x, z, res.message\n",
        "\n",
        "\n",
        "c = [5, 3, 4]\n",
        "A_ub = [\n",
        "    [-8, -6, -4],\n",
        "    [1, 0, 0],\n",
        "    [0, 1, 0],\n",
        "    [0, 0, 1]\n",
        "]\n",
        "b_ub = [-100, 5, 8, 6]\n",
        "\n",
        "# Minimizar\n",
        "x_min, z_min, msg_min = solve_lp(c, A_ub, b_ub, maximize=False)\n",
        "print(\"Minimizar:\", msg_min, x_min, z_min)\n",
        "\n",
        "# Maximizar\n",
        "x_max, z_max, msg_max = solve_lp(c, A_ub, b_ub, maximize=True)\n",
        "print(\"Maximizar:\", msg_max, x_max, z_max)\n"
      ]
    }
  ]
}